{
 "cells": [
  {
   "cell_type": "code",
   "execution_count": 3,
   "metadata": {},
   "outputs": [],
   "source": [
    "#документ в свободном доступе, буду очень рад видеть дополнения и комментарии.\n",
    "#csv подгружу на диск, надо будет изменить ссылки в методе read_ csv.\n",
    "\n",
    "from scipy import stats\n",
    "import pandas as pd\n",
    "import matplotlib.pyplot as plt\n",
    "import numpy as np"
   ]
  },
  {
   "cell_type": "code",
   "execution_count": 4,
   "metadata": {},
   "outputs": [],
   "source": [
    "from scipy.stats import shapiro"
   ]
  },
  {
   "cell_type": "code",
   "execution_count": 150,
   "metadata": {},
   "outputs": [
    {
     "data": {
      "text/html": [
       "<div>\n",
       "<style scoped>\n",
       "    .dataframe tbody tr th:only-of-type {\n",
       "        vertical-align: middle;\n",
       "    }\n",
       "\n",
       "    .dataframe tbody tr th {\n",
       "        vertical-align: top;\n",
       "    }\n",
       "\n",
       "    .dataframe thead th {\n",
       "        text-align: right;\n",
       "    }\n",
       "</style>\n",
       "<table border=\"1\" class=\"dataframe\">\n",
       "  <thead>\n",
       "    <tr style=\"text-align: right;\">\n",
       "      <th></th>\n",
       "      <th>popul</th>\n",
       "      <th>density</th>\n",
       "      <th>city</th>\n",
       "      <th>n_religion</th>\n",
       "      <th>religion</th>\n",
       "      <th>l_exp_fem</th>\n",
       "      <th>l_exp_m</th>\n",
       "      <th>literacy</th>\n",
       "      <th>p_growth</th>\n",
       "      <th>child_death</th>\n",
       "      <th>...</th>\n",
       "      <th>log_gnp</th>\n",
       "      <th>lg_lev_spid</th>\n",
       "      <th>birth_to_death</th>\n",
       "      <th>children</th>\n",
       "      <th>log_popul</th>\n",
       "      <th>harvest</th>\n",
       "      <th>literacy_male</th>\n",
       "      <th>literacy_fem</th>\n",
       "      <th>climate</th>\n",
       "      <th>filter</th>\n",
       "    </tr>\n",
       "  </thead>\n",
       "  <tbody>\n",
       "    <tr>\n",
       "      <td>0</td>\n",
       "      <td>17800</td>\n",
       "      <td>2.3</td>\n",
       "      <td>85</td>\n",
       "      <td>4</td>\n",
       "      <td>Protstnt</td>\n",
       "      <td>80</td>\n",
       "      <td>74</td>\n",
       "      <td>100</td>\n",
       "      <td>1.38</td>\n",
       "      <td>7.3</td>\n",
       "      <td>...</td>\n",
       "      <td>4.226548</td>\n",
       "      <td>1,926784394</td>\n",
       "      <td>1,875</td>\n",
       "      <td>1,9</td>\n",
       "      <td>4.250420</td>\n",
       "      <td>6</td>\n",
       "      <td>100</td>\n",
       "      <td>100</td>\n",
       "      <td>3</td>\n",
       "      <td>0</td>\n",
       "    </tr>\n",
       "    <tr>\n",
       "      <td>1</td>\n",
       "      <td>8000</td>\n",
       "      <td>94.0</td>\n",
       "      <td>58</td>\n",
       "      <td>2</td>\n",
       "      <td>Catholic</td>\n",
       "      <td>79</td>\n",
       "      <td>73</td>\n",
       "      <td>99</td>\n",
       "      <td>0.20</td>\n",
       "      <td>6.7</td>\n",
       "      <td>...</td>\n",
       "      <td>4.264723</td>\n",
       "      <td>1,704203962</td>\n",
       "      <td>1,090909091</td>\n",
       "      <td>1,5</td>\n",
       "      <td>3.903090</td>\n",
       "      <td>17</td>\n",
       "      <td></td>\n",
       "      <td></td>\n",
       "      <td>8</td>\n",
       "      <td>1</td>\n",
       "    </tr>\n",
       "    <tr>\n",
       "      <td>2</td>\n",
       "      <td>7400</td>\n",
       "      <td>86.0</td>\n",
       "      <td>54</td>\n",
       "      <td>1</td>\n",
       "      <td>Muslim</td>\n",
       "      <td>75</td>\n",
       "      <td>67</td>\n",
       "      <td>98</td>\n",
       "      <td>1.40</td>\n",
       "      <td>35.0</td>\n",
       "      <td>...</td>\n",
       "      <td>3.477121</td>\n",
       "      <td></td>\n",
       "      <td>3,285714286</td>\n",
       "      <td>2,8</td>\n",
       "      <td>3.869232</td>\n",
       "      <td>18</td>\n",
       "      <td>100</td>\n",
       "      <td>100</td>\n",
       "      <td>3</td>\n",
       "      <td>0</td>\n",
       "    </tr>\n",
       "    <tr>\n",
       "      <td>3</td>\n",
       "      <td>58400</td>\n",
       "      <td>237.0</td>\n",
       "      <td>89</td>\n",
       "      <td>4</td>\n",
       "      <td>Protstnt</td>\n",
       "      <td>80</td>\n",
       "      <td>74</td>\n",
       "      <td>99</td>\n",
       "      <td>0.20</td>\n",
       "      <td>7.2</td>\n",
       "      <td>...</td>\n",
       "      <td>4.203414</td>\n",
       "      <td>1,729047295</td>\n",
       "      <td>1,181818182</td>\n",
       "      <td>1,83</td>\n",
       "      <td>4.766413</td>\n",
       "      <td>29</td>\n",
       "      <td></td>\n",
       "      <td></td>\n",
       "      <td>8</td>\n",
       "      <td>1</td>\n",
       "    </tr>\n",
       "    <tr>\n",
       "      <td>4</td>\n",
       "      <td>33900</td>\n",
       "      <td>12.0</td>\n",
       "      <td>86</td>\n",
       "      <td>2</td>\n",
       "      <td>Catholic</td>\n",
       "      <td>75</td>\n",
       "      <td>68</td>\n",
       "      <td>95</td>\n",
       "      <td>1.30</td>\n",
       "      <td>25.6</td>\n",
       "      <td>...</td>\n",
       "      <td>3.532500</td>\n",
       "      <td>1,63027933</td>\n",
       "      <td>2,222222222</td>\n",
       "      <td>2,8</td>\n",
       "      <td>4.530200</td>\n",
       "      <td>9</td>\n",
       "      <td>96</td>\n",
       "      <td>95</td>\n",
       "      <td>8</td>\n",
       "      <td>1</td>\n",
       "    </tr>\n",
       "  </tbody>\n",
       "</table>\n",
       "<p>5 rows × 27 columns</p>\n",
       "</div>"
      ],
      "text/plain": [
       "   popul  density city n_religion  religion  l_exp_fem  l_exp_m literacy  \\\n",
       "0  17800      2.3   85          4  Protstnt         80       74      100   \n",
       "1   8000     94.0   58          2  Catholic         79       73       99   \n",
       "2   7400     86.0   54          1    Muslim         75       67       98   \n",
       "3  58400    237.0   89          4  Protstnt         80       74       99   \n",
       "4  33900     12.0   86          2  Catholic         75       68       95   \n",
       "\n",
       "   p_growth  child_death  ...   log_gnp  lg_lev_spid birth_to_death children  \\\n",
       "0      1.38          7.3  ...  4.226548  1,926784394          1,875      1,9   \n",
       "1      0.20          6.7  ...  4.264723  1,704203962    1,090909091      1,5   \n",
       "2      1.40         35.0  ...  3.477121                 3,285714286      2,8   \n",
       "3      0.20          7.2  ...  4.203414  1,729047295    1,181818182     1,83   \n",
       "4      1.30         25.6  ...  3.532500   1,63027933    2,222222222      2,8   \n",
       "\n",
       "   log_popul harvest literacy_male  literacy_fem climate filter  \n",
       "0   4.250420       6           100           100       3      0  \n",
       "1   3.903090      17                                   8      1  \n",
       "2   3.869232      18           100           100       3      0  \n",
       "3   4.766413      29                                   8      1  \n",
       "4   4.530200       9            96            95       8      1  \n",
       "\n",
       "[5 rows x 27 columns]"
      ]
     },
     "execution_count": 150,
     "metadata": {},
     "output_type": "execute_result"
    }
   ],
   "source": [
    "data = pd.read_csv('~/Desktop/World951.csv', sep=';', decimal=',', skip_blank_lines=True)\n",
    "data.head()"
   ]
  },
  {
   "cell_type": "code",
   "execution_count": 151,
   "metadata": {},
   "outputs": [],
   "source": [
    "#не обязательно для выполнения для вашего датасета\n",
    "#в основном боролся с изменением , на . в Excel, стирал пробелы и изменял тип данных\n",
    "data['city'] = [x.replace(',', '.') for x in data['city']]\n",
    "data['n_religion'] = [x.replace(',', '.') for x in data['n_religion']]\n",
    "data['literacy'] = [x.replace(',', '.') for x in data['literacy']]\n",
    "data['region'] = [x.replace(',', '.') for x in data['region']]\n",
    "data['calory'] = [x.replace(',', '.') for x in data['calory']]\n",
    "data['spid'] = [x.replace(',', '.') for x in data['spid']]\n",
    "data['lev_death'] = [x.replace(',', '.') for x in data['lev_death']]\n",
    "data['lev_spid'] = [x.replace(',', '.') for x in data['lev_spid']]\n",
    "data['lg_lev_spid'] = [x.replace(',', '.') for x in data['lg_lev_spid']]\n",
    "data['birth_to_death'] = [x.replace(',', '.') for x in data['birth_to_death']]\n",
    "data['children'] = [x.replace(',', '.') for x in data['children']]\n",
    "data['harvest'] = [x.replace(',', '.') for x in data['harvest']]\n",
    "data['literacy_male'] = [x.replace(',', '.') for x in data['literacy_male']]\n",
    "data['literacy_fem'] = [x.replace(',', '.') for x in data['literacy_fem']]\n",
    "data['climate'] = [x.replace(',', '.') for x in data['climate']]\n",
    "data['filter'] = [x.replace(',', '.') for x in data['filter']]\n",
    "\n",
    "data['city'] = [x.replace(' ', 'nan') for x in data['city']]\n",
    "data['n_religion'] = [x.replace(' ', 'nan') for x in data['n_religion']]\n",
    "data['literacy'] = [x.replace(' ', 'nan') for x in data['literacy']]\n",
    "data['region'] = [x.replace(' ', 'nan') for x in data['region']]\n",
    "data['calory'] = [x.replace(' ', 'nan') for x in data['calory']]\n",
    "data['spid'] = [x.replace(' ', 'nan') for x in data['spid']]\n",
    "data['lev_death'] = [x.replace(' ', 'nan') for x in data['lev_death']]\n",
    "data['lev_spid'] = [x.replace(' ', 'nan') for x in data['lev_spid']]\n",
    "data['lg_lev_spid'] = [x.replace(' ', 'nan') for x in data['lg_lev_spid']]\n",
    "data['birth_to_death'] = [x.replace(' ', 'nan') for x in data['birth_to_death']]\n",
    "data['children'] = [x.replace(' ', 'nan') for x in data['children']]\n",
    "data['harvest'] = [x.replace(' ', 'nan') for x in data['harvest']]\n",
    "data['literacy_male'] = [x.replace(' ', 'nan') for x in data['literacy_male']]\n",
    "data['literacy_fem'] = [x.replace(' ', 'nan') for x in data['literacy_fem']]\n",
    "data['climate'] = [x.replace(' ', 'nan') for x in data['climate']]\n",
    "data['filter'] = [x.replace(' ', 'nan') for x in data['filter']]\n",
    "\n",
    "data['city'] = data['city'].astype('float')\n",
    "data['n_religion'] = data['n_religion'].astype('float')\n",
    "data['literacy'] = data['literacy'].astype('float')\n",
    "data['region'] = data['region'].astype('float')\n",
    "data['calory'] = data['calory'].astype('float')\n",
    "data['spid'] = data['spid'].astype('float')\n",
    "data['lev_death'] = data['lev_death'].astype('float')\n",
    "data['lev_spid'] = data['lev_spid'].astype('float')\n",
    "data['lg_lev_spid'] = data['lg_lev_spid'].astype('float')\n",
    "data['birth_to_death'] = data['birth_to_death'].astype('float')\n",
    "data['children'] = data['children'].astype('float')\n",
    "data['harvest'] = data['harvest'].astype('float')\n",
    "data['literacy_male'] = data['literacy_male'].astype('float')\n",
    "data['literacy_fem'] = data['literacy_fem'].astype('float')\n",
    "data['climate'] = data['climate'].astype('float')\n",
    "data['filter'] = data['filter'].astype('float')\n",
    "\n",
    "data.head()"
   ]
  },
  {
   "cell_type": "code",
   "execution_count": 153,
   "metadata": {},
   "outputs": [
    {
     "data": {
      "text/plain": [
       "<matplotlib.axes._subplots.AxesSubplot at 0x1a2275ad90>"
      ]
     },
     "execution_count": 153,
     "metadata": {},
     "output_type": "execute_result"
    },
    {
     "data": {
      "image/png": "[encoded data removed]",
      "text/plain": [
       "<Figure size 432x288 with 1 Axes>"
      ]
     },
     "metadata": {
      "needs_background": "light"
     },
     "output_type": "display_data"
    }
   ],
   "source": [
    "data['popul'].hist(range=(0, 200000))"
   ]
  },
  {
   "cell_type": "markdown",
   "metadata": {},
   "source": [
    "### The Shapiro-Wilk test tests the null hypothesis that the data was drawn from a normal distribution."
   ]
  },
  {
   "cell_type": "code",
   "execution_count": 5,
   "metadata": {},
   "outputs": [],
   "source": [
    "stat, p = shapiro(data['popul'])"
   ]
  },
  {
   "cell_type": "code",
   "execution_count": 6,
   "metadata": {},
   "outputs": [
    {
     "data": {
      "text/plain": [
       "1.2102364835576842e-20"
      ]
     },
     "execution_count": 6,
     "metadata": {},
     "output_type": "execute_result"
    }
   ],
   "source": [
    "p"
   ]
  },
  {
   "cell_type": "markdown",
   "metadata": {},
   "source": [
    "### The Kolomogorov-Smirnov\n",
    "#This performs a test of the distribution F(x) of an observed random variable against a given distribution G(x).\n",
    "#Under the null hypothesis the two distributions are identical, F(x)=G(x). \n",
    "#The alternative hypothesis can be either ‘two-sided’ (default), ‘less’ or ‘greater’."
   ]
  },
  {
   "cell_type": "code",
   "execution_count": 7,
   "metadata": {},
   "outputs": [
    {
     "data": {
      "text/plain": [
       "KstestResult(statistic=0.37258778946218607, pvalue=4.322960350721582e-14)"
      ]
     },
     "execution_count": 7,
     "metadata": {},
     "output_type": "execute_result"
    }
   ],
   "source": [
    "stats.kstest(data['popul'], 'norm', args=(data['popul'].mean(), np.std(data['popul'])))"
   ]
  },
  {
   "cell_type": "markdown",
   "metadata": {},
   "source": [
    "### D’Agostino’s K^2 Test"
   ]
  },
  {
   "cell_type": "code",
   "execution_count": 30,
   "metadata": {},
   "outputs": [
    {
     "data": {
      "text/plain": [
       "NormaltestResult(statistic=177.5825929286158, pvalue=2.744289377181602e-39)"
      ]
     },
     "execution_count": 30,
     "metadata": {},
     "output_type": "execute_result"
    }
   ],
   "source": [
    "stats.normaltest(data['popul'])"
   ]
  },
  {
   "cell_type": "markdown",
   "metadata": {},
   "source": [
    "### Pearson correlation coefficient and p-value for testing non-correlation.\n",
    "The Pearson correlation coefficient measures the linear relationship between two datasets. The calculation of the p-value relies on the assumption that each dataset is normally distributed."
   ]
  },
  {
   "cell_type": "code",
   "execution_count": 8,
   "metadata": {},
   "outputs": [
    {
     "data": {
      "text/plain": [
       "(-0.086712847250477, 0.369952788390713)"
      ]
     },
     "execution_count": 8,
     "metadata": {},
     "output_type": "execute_result"
    }
   ],
   "source": [
    "stats.pearsonr(data['popul'], data['gnp'])"
   ]
  },
  {
   "cell_type": "markdown",
   "metadata": {},
   "source": [
    "### The Spearman correlation \n",
    "It is a nonparametric measure of the monotonicity of the relationship between two datasets. Unlike the Pearson correlation, the Spearman correlation does not assume that both datasets are normally distributed. \n",
    "\n",
    "If axis=0 (default), then each column represents a variable, with observations in the rows."
   ]
  },
  {
   "cell_type": "code",
   "execution_count": 9,
   "metadata": {},
   "outputs": [
    {
     "data": {
      "text/plain": [
       "SpearmanrResult(correlation=-0.18276533144950483, pvalue=0.05714733743113987)"
      ]
     },
     "execution_count": 9,
     "metadata": {},
     "output_type": "execute_result"
    }
   ],
   "source": [
    "stats.spearmanr(data['popul'] , data['gnp'],  axis=0, nan_policy='omit')"
   ]
  },
  {
   "cell_type": "code",
   "execution_count": 10,
   "metadata": {},
   "outputs": [
    {
     "data": {
      "text/plain": [
       "<matplotlib.axes._subplots.AxesSubplot at 0x1a213d7050>"
      ]
     },
     "execution_count": 10,
     "metadata": {},
     "output_type": "execute_result"
    },
    {
     "data": {
      "image/png": "[encoded data removed]",
      "text/plain": [
       "<Figure size 432x288 with 1 Axes>"
      ]
     },
     "metadata": {
      "needs_background": "light"
     },
     "output_type": "display_data"
    }
   ],
   "source": [
    "ax = data['popul'].plot(legend=True)\n",
    "data['gnp'].plot(ax=ax)"
   ]
  },
  {
   "cell_type": "markdown",
   "metadata": {},
   "source": [
    "### FISHER test\n",
    "Критерий Фишера применяется для проверки равенства дисперсий двух выборок. Его относят к критериям рассеяния."
   ]
  },
  {
   "cell_type": "code",
   "execution_count": 11,
   "metadata": {},
   "outputs": [
    {
     "name": "stdout",
     "output_type": "stream",
     "text": [
      "Reject the null hypothesis that Var(X) == Var(Y)\n"
     ]
    }
   ],
   "source": [
    "F = np.var(data['l_exp_fem']) / np.var(data['l_exp_m'])\n",
    "df1 = len(data['l_exp_fem']) - 1\n",
    "df2 = len(data['l_exp_m']) - 1\n",
    "alpha = 0.05 #Or whatever you want your alpha to be.\n",
    "p_value = stats.f.cdf(F, df1, df2)\n",
    "if p_value > alpha:\n",
    "    print('Reject the null hypothesis that Var(X) == Var(Y)')"
   ]
  },
  {
   "cell_type": "code",
   "execution_count": 12,
   "metadata": {},
   "outputs": [
    {
     "data": {
      "text/plain": [
       "<matplotlib.axes._subplots.AxesSubplot at 0x1a220c2510>"
      ]
     },
     "execution_count": 12,
     "metadata": {},
     "output_type": "execute_result"
    },
    {
     "data": {
      "image/png": "[encoded data removed]",
      "text/plain": [
       "<Figure size 432x288 with 1 Axes>"
      ]
     },
     "metadata": {
      "needs_background": "light"
     },
     "output_type": "display_data"
    }
   ],
   "source": [
    "data['l_exp_fem'].hist()"
   ]
  },
  {
   "cell_type": "markdown",
   "metadata": {},
   "source": [
    "### Тест Бартлетта\n",
    "Bartlett’s test tests the null hypothesis that all input samples are from populations with equal variances."
   ]
  },
  {
   "cell_type": "code",
   "execution_count": 13,
   "metadata": {},
   "outputs": [
    {
     "data": {
      "text/plain": [
       "BartlettResult(statistic=1.8426254548948435, pvalue=0.17464353939070193)"
      ]
     },
     "execution_count": 13,
     "metadata": {},
     "output_type": "execute_result"
    }
   ],
   "source": [
    "stats.bartlett(data['l_exp_fem'],data['l_exp_m'])"
   ]
  },
  {
   "cell_type": "markdown",
   "metadata": {},
   "source": [
    "### Тест Левина\n",
    "The Levene test tests the null hypothesis that all input samples are from populations with equal variances. \n",
    "\n",
    "При р > 0,05 различие дисперсии между данными группами не значимо, следовательно, их можно рассматривать как гомогенные."
   ]
  },
  {
   "cell_type": "code",
   "execution_count": 14,
   "metadata": {},
   "outputs": [
    {
     "data": {
      "text/plain": [
       "LeveneResult(statistic=1.0566745639640653, pvalue=0.3051245981817433)"
      ]
     },
     "execution_count": 14,
     "metadata": {},
     "output_type": "execute_result"
    }
   ],
   "source": [
    "stats.levene(data['l_exp_fem'],data['l_exp_m'])"
   ]
  },
  {
   "cell_type": "markdown",
   "metadata": {},
   "source": [
    "### Student’s t-test\n",
    "Обычный t-тест исходит из предположения, что дисперсии в группах одинаковы. Обычно, это предположение нереалистично.  Однако есть аргемент, который указывает условие равенства дисперсий.\n",
    "\n",
    "•\tObservations in each sample are independent and identically distributed (iid).\n",
    "•\tObservations in each sample are normally distributed.\n",
    "•\tObservations in each sample have the same variance.\n"
   ]
  },
  {
   "cell_type": "code",
   "execution_count": 17,
   "metadata": {},
   "outputs": [
    {
     "data": {
      "text/plain": [
       "Ttest_indResult(statistic=3.8892747514917407, pvalue=0.00013385663481817604)"
      ]
     },
     "execution_count": 17,
     "metadata": {},
     "output_type": "execute_result"
    }
   ],
   "source": [
    "stats.ttest_ind(data['l_exp_fem'], data['l_exp_m'], equal_var = True)"
   ]
  },
  {
   "cell_type": "markdown",
   "metadata": {},
   "source": [
    "### Welsh's t-test"
   ]
  },
  {
   "cell_type": "code",
   "execution_count": 20,
   "metadata": {},
   "outputs": [
    {
     "data": {
      "text/plain": [
       "Ttest_indResult(statistic=3.8892747514917407, pvalue=0.00013448066145560063)"
      ]
     },
     "execution_count": 20,
     "metadata": {},
     "output_type": "execute_result"
    }
   ],
   "source": [
    "stats.ttest_ind(data['l_exp_fem'], data['l_exp_m'], equal_var=False)"
   ]
  },
  {
   "cell_type": "markdown",
   "metadata": {},
   "source": [
    "### ANOVA test\n",
    "Tests whether the means of two or more independent samples are significantly different.\n",
    "Assumptions\n",
    "\n",
    "•\tObservations in each sample are independent and identically distributed (iid).\n",
    "\n",
    "•\tObservations in each sample are normally distributed.\n",
    "\n",
    "•\tObservations in each sample have the same variance.\n",
    "\n",
    "Interpretation\n",
    "\n",
    "•\tH0: the means of the samples are equal.\n",
    "\n",
    "•\tH1: one or more of the means of the samples are unequal.\n",
    "\n",
    "Same as T-Test but can be used several variables!\n"
   ]
  },
  {
   "cell_type": "code",
   "execution_count": 21,
   "metadata": {},
   "outputs": [
    {
     "data": {
      "text/plain": [
       "F_onewayResult(statistic=15.126458092591077, pvalue=0.00013385663481818154)"
      ]
     },
     "execution_count": 21,
     "metadata": {},
     "output_type": "execute_result"
    }
   ],
   "source": [
    "stats.f_oneway(data['l_exp_fem'], data['l_exp_m'])"
   ]
  },
  {
   "cell_type": "markdown",
   "metadata": {},
   "source": [
    "### Paired Student’s t-test\n",
    "Tests whether the means of two paired samples are significantly different.\n",
    "Assumptions\n",
    "•\tObservations in each sample are independent and identically distributed (iid).\n",
    "•\tObservations in each sample are normally distributed.\n",
    "•\tObservations in each sample have the same variance.\n",
    "•\tObservations across each sample are paired.\n",
    "\n",
    "•\tH0: the means of the samples are equal.\n"
   ]
  },
  {
   "cell_type": "code",
   "execution_count": 22,
   "metadata": {},
   "outputs": [
    {
     "data": {
      "text/plain": [
       "Ttest_relResult(statistic=24.10883266808265, pvalue=2.8413171688434744e-45)"
      ]
     },
     "execution_count": 22,
     "metadata": {},
     "output_type": "execute_result"
    }
   ],
   "source": [
    "stats.ttest_rel(data['l_exp_fem'], data['l_exp_m'])"
   ]
  },
  {
   "cell_type": "markdown",
   "metadata": {},
   "source": [
    "### U-критерий Манна Уитни\n",
    "Критерий Манна-Уитни проверяет гипотезу о статистической однородности двух выборок. \n",
    "The Mann-Whitney U test is a nonparametric statistical significance test for determining whether two independent samples were drawn from a population with the same distribution.\n",
    "\n",
    "Fail to Reject H0: Sample distributions are equal.\n",
    "Reject H0: Sample distributions are not equal.\n",
    "\n",
    "For the test to be effective, it requires at least 20 observations in each data sample.\n",
    "\n"
   ]
  },
  {
   "cell_type": "code",
   "execution_count": 23,
   "metadata": {},
   "outputs": [
    {
     "data": {
      "text/plain": [
       "MannwhitneyuResult(statistic=3556.0, pvalue=1.4976535275127555e-07)"
      ]
     },
     "execution_count": 23,
     "metadata": {},
     "output_type": "execute_result"
    }
   ],
   "source": [
    "stats.mannwhitneyu(data['l_exp_fem'],data['l_exp_m'])"
   ]
  },
  {
   "cell_type": "markdown",
   "metadata": {},
   "source": [
    "### Критерий Вилкоксона \n",
    "The default assumption for the test, the null hypothesis, is that the two samples have the same distribution.\n",
    "\n",
    "Fail to Reject H0: Sample distributions are equal.\n",
    "Reject H0: Sample distributions are not equal.\n",
    "\n",
    "H0: медиана разницы в популяции равна нулю\n",
    "H1: медиана разницы в популяции не равна нулю.\n"
   ]
  },
  {
   "cell_type": "code",
   "execution_count": 24,
   "metadata": {},
   "outputs": [
    {
     "data": {
      "text/plain": [
       "WilcoxonResult(statistic=3.0, pvalue=1.5767911382863993e-19)"
      ]
     },
     "execution_count": 24,
     "metadata": {},
     "output_type": "execute_result"
    }
   ],
   "source": [
    "stats.wilcoxon(data['l_exp_fem'],data['l_exp_m'])"
   ]
  },
  {
   "cell_type": "markdown",
   "metadata": {},
   "source": [
    "### ранговый дисперсионный анализ Фридмана \n",
    "Tests whether the distributions of two or more paired samples are equal or not.\n",
    "\n",
    "Assumptions\n",
    "•\tObservations in each sample are independent and identically distributed (iid).\n",
    "•\tObservations in each sample can be ranked.\n",
    "•\tObservations across each sample are paired.\n"
   ]
  },
  {
   "cell_type": "code",
   "execution_count": 26,
   "metadata": {},
   "outputs": [
    {
     "data": {
      "text/plain": [
       "FriedmanchisquareResult(statistic=215.53563218390815, pvalue=1.5740993678217856e-47)"
      ]
     },
     "execution_count": 26,
     "metadata": {},
     "output_type": "execute_result"
    }
   ],
   "source": [
    "stats.friedmanchisquare(data['l_exp_fem'],data['l_exp_m'], data['gnp']) # больше 3 переменных нужно"
   ]
  },
  {
   "cell_type": "markdown",
   "metadata": {},
   "source": [
    "### критерий Краскела – Уоллеса (Kruskal – Wallis).\n",
    "#The Kruskal-Wallis H-test tests the null hypothesis that the population median of all of the groups are equal. \n",
    "#It is a non-parametric version of ANOVA. The test works on 2 or more independent samples, which may have \n",
    "#different sizes. Note that rejecting the null hypothesis does not indicate which of the groups differs. \n",
    "#Post-hoc comparisons between groups are required to determine which groups are different.\n"
   ]
  },
  {
   "cell_type": "code",
   "execution_count": 27,
   "metadata": {},
   "outputs": [
    {
     "data": {
      "text/plain": [
       "KruskalResult(statistic=26.263745731916636, pvalue=2.978274198697325e-07)"
      ]
     },
     "execution_count": 27,
     "metadata": {},
     "output_type": "execute_result"
    }
   ],
   "source": [
    "stats.kruskal(data['l_exp_fem'],data['l_exp_m'])"
   ]
  },
  {
   "cell_type": "markdown",
   "metadata": {},
   "source": [
    "### Тест Тьюка"
   ]
  },
  {
   "cell_type": "code",
   "execution_count": 5,
   "metadata": {},
   "outputs": [],
   "source": [
    "from statsmodels.stats.multicomp import (pairwise_tukeyhsd,\n",
    "                                         MultiComparison)\n",
    "data = pd.read_csv('~/Desktop/Python/SPSS/3.csv', sep=';', decimal=',', skip_blank_lines=True)"
   ]
  },
  {
   "cell_type": "code",
   "execution_count": 6,
   "metadata": {},
   "outputs": [],
   "source": [
    "data = data[['1','2','3','4','5']]\n",
    "stacked_data = data.stack().reset_index()"
   ]
  },
  {
   "cell_type": "code",
   "execution_count": 7,
   "metadata": {},
   "outputs": [],
   "source": [
    "stacked_data = stacked_data.rename(columns={'level_0': 'id',\n",
    "                                            'level_1': 'group',\n",
    "                                            0:'result'})"
   ]
  },
  {
   "cell_type": "code",
   "execution_count": 8,
   "metadata": {},
   "outputs": [
    {
     "name": "stdout",
     "output_type": "stream",
     "text": [
      "Multiple Comparison of Means - Tukey HSD, FWER=0.01 \n",
      "====================================================\n",
      "group1 group2 meandiff p-adj   lower   upper  reject\n",
      "----------------------------------------------------\n",
      "     1      2   -0.096  0.001 -0.1549 -0.0371   True\n",
      "     1      3    0.042 0.0945 -0.0169  0.1009  False\n",
      "     1      4    0.022  0.621 -0.0369  0.0809  False\n",
      "     1      5    0.106  0.001  0.0471  0.1649   True\n",
      "     2      3    0.138  0.001  0.0791  0.1969   True\n",
      "     2      4    0.118  0.001  0.0591  0.1769   True\n",
      "     2      5    0.202  0.001  0.1431  0.2609   True\n",
      "     3      4    -0.02 0.6896 -0.0789  0.0389  False\n",
      "     3      5    0.064 0.0048  0.0051  0.1229   True\n",
      "     4      5    0.084  0.001  0.0251  0.1429   True\n",
      "----------------------------------------------------\n"
     ]
    }
   ],
   "source": [
    "MultiComp = MultiComparison(stacked_data['result'],\n",
    "                            stacked_data['group'])\n",
    "print(MultiComp.tukeyhsd(alpha=0.01).summary())"
   ]
  },
  {
   "cell_type": "code",
   "execution_count": null,
   "metadata": {},
   "outputs": [],
   "source": []
  }
 ],
 "metadata": {
  "kernelspec": {
   "display_name": "Python 3",
   "language": "python",
   "name": "python3"
  },
  "language_info": {
   "codemirror_mode": {
    "name": "ipython",
    "version": 3
   },
   "file_extension": ".py",
   "mimetype": "text/x-python",
   "name": "python",
   "nbconvert_exporter": "python",
   "pygments_lexer": "ipython3",
   "version": "3.7.4"
  }
 },
 "nbformat": 4,
 "nbformat_minor": 2
}
